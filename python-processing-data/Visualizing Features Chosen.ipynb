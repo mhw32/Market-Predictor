{
 "metadata": {
  "name": "",
  "signature": "sha256:b66c75796485f90759689fe9a959e9d2691bf0728d99810e4187ae107edb0205"
 },
 "nbformat": 3,
 "nbformat_minor": 0,
 "worksheets": [
  {
   "cells": [
    {
     "cell_type": "heading",
     "level": 2,
     "metadata": {},
     "source": [
      "Given our feature choices... how do we verify that the chosen features make sense?"
     ]
    },
    {
     "cell_type": "markdown",
     "metadata": {},
     "source": [
      "http://scikit-learn.org/stable/auto_examples/plot_rfe_with_cross_validation.html#example-plot-rfe-with-cross-validation-py"
     ]
    },
    {
     "cell_type": "code",
     "collapsed": false,
     "input": [
      "# So given our tree pruning and recursive feature analysis algorithms, how do we decide how many features to keep?\n",
      "# Trees only rank the systems and RFE takes an input of N features to return. Therefore, we neeed some way of seeing how much\n",
      "# variance each of these (variable) N features explain. \n",
      "\n",
      "# TBH this doesn't matter terribly because it is more important to overestimate number."
     ],
     "language": "python",
     "metadata": {},
     "outputs": [],
     "prompt_number": 2
    },
    {
     "cell_type": "code",
     "collapsed": false,
     "input": [
      "from sklearn.svm import SVC\n",
      "from sklearn.cross_validation import StratifiedKFold\n",
      "from sklearn.feature_selection import RFECV\n",
      "from sklearn.datasets import make_classification\n",
      "import matplotlib.pyplot as plt\n",
      "\n",
      "# # Build a classification task using 3 informative features\n",
      "# X, y = make_classification(n_samples=1000, n_features=25, n_informative=3,\n",
      "#                            n_redundant=2, n_repeated=0, n_classes=8,\n",
      "#                            n_clusters_per_class=1, random_state=0)\n",
      "\n",
      "# We can do X validation with RFE. Look for a point where the additional features don't add much more explained variance\n",
      "def rfe_cross_validate(X, y):\n",
      "    # Create the RFE object and compute a cross-validated score.\n",
      "    svc = SVC(kernel=\"linear\") # basically logistic regression\n",
      "    # The \"accuracy\" scoring is proportional to the number of correct\n",
      "    # classifications\n",
      "    rfecv = RFECV(estimator=svc, step=1, cv=StratifiedKFold(y, 2), \n",
      "                  scoring='accuracy')\n",
      "    rfecv.fit(X, y)\n",
      "    # plot it \n",
      "    plt.figure()\n",
      "    plt.xlabel(\"Number of features selected\")\n",
      "    plt.ylabel(\"Cross validation score (nb of correct classifications)\")\n",
      "    plt.plot(range(1, len(rfecv.grid_scores_) + 1), rfecv.grid_scores_)\n",
      "    plt.show()"
     ],
     "language": "python",
     "metadata": {},
     "outputs": [],
     "prompt_number": 4
    },
    {
     "cell_type": "code",
     "collapsed": false,
     "input": [
      "# We can attempt a cross val method with extra trees as well.\n",
      "# Let's be conservative: get the number we should use for RFE:x, return x + 5 features.\n",
      "def Extra_trees_model(X, y):\n",
      "    RFE_num = rfe_cross_validate(X, y)\n",
      "    return RFE_num + 5"
     ],
     "language": "python",
     "metadata": {},
     "outputs": [],
     "prompt_number": 8
    },
    {
     "cell_type": "code",
     "collapsed": false,
     "input": [
      "# Something we could also do is just test the accuracy with each number of features...\n",
      "# Pick the one that maximizes variance explanation"
     ],
     "language": "python",
     "metadata": {},
     "outputs": []
    },
    {
     "cell_type": "heading",
     "level": 4,
     "metadata": {},
     "source": [
      "what happens if we just linearly visualize some of our high ranked features."
     ]
    },
    {
     "cell_type": "code",
     "collapsed": false,
     "input": [
      "from pickle import load \n",
      "data = load(open('../storage/final/full-processed-data.pkl', 'rb'))\n",
      "index = load(open('../storage/final/full-processed-index.pkl', 'rb'))"
     ],
     "language": "python",
     "metadata": {},
     "outputs": [],
     "prompt_number": 10
    },
    {
     "cell_type": "code",
     "collapsed": false,
     "input": [],
     "language": "python",
     "metadata": {},
     "outputs": []
    }
   ],
   "metadata": {}
  }
 ]
}