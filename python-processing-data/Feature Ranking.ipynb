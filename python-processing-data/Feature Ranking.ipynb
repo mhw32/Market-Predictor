{
 "metadata": {
  "name": "",
  "signature": "sha256:ba83a2b6c0cca1ffbb347ef61a2055dd28f199b137b29d676f157481304abc9d"
 },
 "nbformat": 3,
 "nbformat_minor": 0,
 "worksheets": [
  {
   "cells": [
    {
     "cell_type": "heading",
     "level": 1,
     "metadata": {},
     "source": [
      "Let's try a bunch of feature selection tactics"
     ]
    },
    {
     "cell_type": "heading",
     "level": 3,
     "metadata": {},
     "source": [
      "Recursive Feature Elimination"
     ]
    },
    {
     "cell_type": "markdown",
     "metadata": {},
     "source": [
      "Recursively removes attributes and builds a model with those attributes that remain. Uses accuracy to identify which attributes work to predicting the target attribute."
     ]
    },
    {
     "cell_type": "code",
     "collapsed": false,
     "input": [
      "# Recursive Feature Elimination\n",
      "from sklearn import datasets\n",
      "from sklearn.feature_selection import RFE\n",
      "from sklearn.linear_model import LogisticRegression\n",
      "# Load a temporary data set\n",
      "dataset = datasets.load_iris()\n",
      "# Create a base classifier to evaluate a subset of attr\n",
      "model = LogisticRegression()\n",
      "# Create the RFE model + select 3 attributes\n",
      "rfe = RFE(model, 3) # <-- how many features to select. \n",
      "rfe = rfe.fit(dataset.data, dataset.target)\n",
      "# Summarize the selection of the attr\n",
      "print(rfe.support_)\n",
      "print(rfe.ranking_)"
     ],
     "language": "python",
     "metadata": {},
     "outputs": [
      {
       "output_type": "stream",
       "stream": "stdout",
       "text": [
        "[False  True  True  True]\n",
        "[2 1 1 1]\n"
       ]
      }
     ],
     "prompt_number": 2
    },
    {
     "cell_type": "code",
     "collapsed": false,
     "input": [
      "def recursive_selection(vectors, labels, num):\n",
      "    model = LogisticRegression() \n",
      "    rfe   = RFE(model, num)\n",
      "    rfe   = rfe.fit(vectors, labels)\n",
      "    return rfe.support_"
     ],
     "language": "python",
     "metadata": {},
     "outputs": [],
     "prompt_number": 15
    },
    {
     "cell_type": "heading",
     "level": 3,
     "metadata": {},
     "source": [
      "Measuring Feature Importance via ExtraTreesClassifier"
     ]
    },
    {
     "cell_type": "markdown",
     "metadata": {},
     "source": [
      "Basically quantifies the features to see which ones are \"more important\""
     ]
    },
    {
     "cell_type": "code",
     "collapsed": false,
     "input": [
      "# Feature Importance\n",
      "from sklearn import datasets\n",
      "from sklearn import metrics\n",
      "from sklearn.ensemble import ExtraTreesClassifier\n",
      "# load the iris datasets\n",
      "dataset = datasets.load_iris()\n",
      "# fit an Extra Trees model to the data\n",
      "model = ExtraTreesClassifier()\n",
      "model.fit(dataset.data, dataset.target)\n",
      "# display the relative importance of each attribute\n",
      "print(model.feature_importances_)"
     ],
     "language": "python",
     "metadata": {},
     "outputs": [
      {
       "output_type": "stream",
       "stream": "stdout",
       "text": [
        "[ 0.06270627  0.09101527  0.26196329  0.58431517]\n"
       ]
      }
     ],
     "prompt_number": 26
    },
    {
     "cell_type": "code",
     "collapsed": false,
     "input": [
      "tmp = model.feature_importances_\n",
      "test = [(i,j) for i,j in enumerate(tmp)]\n",
      "test = sorted(test, key=lambda x: x[1])\n",
      "indices = [i[0] for i in test]\n",
      "indices"
     ],
     "language": "python",
     "metadata": {},
     "outputs": [
      {
       "metadata": {},
       "output_type": "pyout",
       "prompt_number": 33,
       "text": [
        "[0, 1, 2, 3]"
       ]
      }
     ],
     "prompt_number": 33
    },
    {
     "cell_type": "code",
     "collapsed": false,
     "input": [
      "def extra_trees(vectors, labels):\n",
      "    # fit an Extra Trees model to the data\n",
      "    model = ExtraTreesClassifier()\n",
      "    model.fit(vectors, labels)\n",
      "    # display the relative importance of each attribute\n",
      "    print(model.feature_importances_)"
     ],
     "language": "python",
     "metadata": {},
     "outputs": [],
     "prompt_number": 16
    },
    {
     "cell_type": "heading",
     "level": 3,
     "metadata": {},
     "source": [
      "Chi Squared Test"
     ]
    },
    {
     "cell_type": "markdown",
     "metadata": {},
     "source": [
      "Univariate feature selection works by selecting the best features based on univariate statistical tests."
     ]
    },
    {
     "cell_type": "code",
     "collapsed": false,
     "input": [
      "from sklearn.datasets import load_iris\n",
      "from sklearn.feature_selection import SelectKBest\n",
      "from sklearn.feature_selection import chi2\n",
      "iris = load_iris()\n",
      "X, y = iris.data, iris.target\n",
      "X_new = SelectKBest(chi2, k=1).fit_transform(X, y)\n",
      "X_new.shape"
     ],
     "language": "python",
     "metadata": {},
     "outputs": [
      {
       "metadata": {},
       "output_type": "pyout",
       "prompt_number": 23,
       "text": [
        "(150, 1)"
       ]
      }
     ],
     "prompt_number": 23
    },
    {
     "cell_type": "code",
     "collapsed": false,
     "input": [
      "def chi2_selection(vectors, labels, num):\n",
      "    if num >= vectors.shape[1]:\n",
      "        return 'Error: features selected must be less than total number of features'\n",
      "    X_new = SelectKBest(chi2, k=num).fit_transform(vectors, labels)\n",
      "    return X_new"
     ],
     "language": "python",
     "metadata": {},
     "outputs": [],
     "prompt_number": 22
    },
    {
     "cell_type": "markdown",
     "metadata": {},
     "source": [
      "---"
     ]
    },
    {
     "cell_type": "heading",
     "level": 2,
     "metadata": {},
     "source": [
      "Perform the thing on our new data!"
     ]
    },
    {
     "cell_type": "code",
     "collapsed": false,
     "input": [
      "from pickle import load\n",
      "vectors = load(open('./SOMPY/separate_feature_vectors.pkl'))\n",
      "labels = load(open('./SOMPY/separate_feature_labels.pkl'))"
     ],
     "language": "python",
     "metadata": {},
     "outputs": [],
     "prompt_number": 3
    },
    {
     "cell_type": "code",
     "collapsed": false,
     "input": [
      "import numpy as np\n",
      "vectors[np.isnan(vectors)] = 0\n",
      "vectors[np.isinf(vectors)] = 0\n",
      "model = LogisticRegression() \n",
      "rfe   = RFE(model, 25)\n",
      "rfe   = rfe.fit(vectors, labels)"
     ],
     "language": "python",
     "metadata": {},
     "outputs": [],
     "prompt_number": 11
    },
    {
     "cell_type": "code",
     "collapsed": false,
     "input": [
      "rfe.support_"
     ],
     "language": "python",
     "metadata": {},
     "outputs": [
      {
       "metadata": {},
       "output_type": "pyout",
       "prompt_number": 21,
       "text": [
        "array([False, False, False, False, False, False, False, False, False,\n",
        "       False, False, False, False, False, False, False, False, False,\n",
        "       False,  True,  True, False, False, False, False,  True, False,\n",
        "       False, False, False, False, False, False, False, False, False,\n",
        "       False, False, False,  True, False, False, False, False, False,\n",
        "       False, False, False, False, False, False, False, False, False,\n",
        "       False, False, False, False, False, False, False, False, False,\n",
        "       False, False, False, False, False, False, False, False, False,\n",
        "       False, False, False, False, False, False, False, False, False,\n",
        "       False, False, False, False, False, False,  True, False,  True,\n",
        "        True, False,  True, False,  True,  True, False, False,  True,\n",
        "        True,  True,  True,  True,  True,  True,  True,  True,  True,\n",
        "       False, False, False, False, False, False, False,  True,  True,\n",
        "       False, False, False, False,  True,  True,  True], dtype=bool)"
       ]
      }
     ],
     "prompt_number": 21
    },
    {
     "cell_type": "code",
     "collapsed": false,
     "input": [
      "index[3:][rfe.support_]"
     ],
     "language": "python",
     "metadata": {},
     "outputs": [
      {
       "metadata": {},
       "output_type": "pyout",
       "prompt_number": 19,
       "text": [
        "array(['quick ratio', 'current ratio', 'asset turnover', 'revenue/assets',\n",
        "       'Current Ratio', '(Current Assets - Stock) / Total Assets',\n",
        "       'Current Liabilities / Total Assets', 'Cash / Total Assets',\n",
        "       'Net Op. Work. Capital / Total Assets',\n",
        "       'Long Term Debt / Total Assets', 'Net Income / Total Assets',\n",
        "       'Total Sales / Total Assets', 'Operating Cash Flow / Total Assets',\n",
        "       'Operating Cash Flow / Total Sales', 'Current Assets / Total Sales',\n",
        "       'Net Op. Work. Capital / Total Sales',\n",
        "       'Accounts Payable / Total Sales',\n",
        "       'Accounts Receivable / Total Sales', 'Inventory / Total Sales',\n",
        "       'Cash / Total Sales', 'Total Asset Turnover', 'Cash Ratio',\n",
        "       'Total Assets / NAV', 'Log Stock Return', 'Log Index Return'], \n",
        "      dtype='|S41')"
       ]
      }
     ],
     "prompt_number": 19
    },
    {
     "cell_type": "code",
     "collapsed": false,
     "input": [
      "import numpy as np\n",
      "vectors[np.isnan(vectors)] = 0\n",
      "vectors[np.isinf(vectors)] = 0"
     ],
     "language": "python",
     "metadata": {},
     "outputs": [],
     "prompt_number": 12
    },
    {
     "cell_type": "code",
     "collapsed": false,
     "input": [
      "from pickle import load\n",
      "vectors = load(open('./SOMPY/separate_midsize_feature_vectors.pkl'))\n",
      "labels = load(open('./SOMPY/separate_midsize_feature_labels.pkl'))"
     ],
     "language": "python",
     "metadata": {},
     "outputs": [],
     "prompt_number": 10
    },
    {
     "cell_type": "code",
     "collapsed": false,
     "input": [
      "from sklearn.ensemble import ExtraTreesClassifier\n",
      "model = ExtraTreesClassifier()\n",
      "model.fit(vectors, labels)\n",
      "# display the relative importance of each attribute\n",
      "print(model.feature_importances_)"
     ],
     "language": "python",
     "metadata": {},
     "outputs": [
      {
       "output_type": "stream",
       "stream": "stdout",
       "text": [
        "[  6.06032743e-03   6.33253995e-03   6.21106052e-03   9.12024133e-03\n",
        "   7.77283554e-03   8.25619415e-03   7.40926681e-03   5.88618017e-03\n",
        "   7.49877856e-03   8.38201664e-03   3.36092321e-03   5.94052925e-03\n",
        "   6.67336134e-03   6.85767032e-03   8.08230269e-03   6.14297832e-03\n",
        "   6.64479182e-03   6.34224305e-03   3.75263075e-03   7.18750539e-03\n",
        "   7.33170288e-03   7.70114550e-03   6.31174663e-03   6.52571571e-03\n",
        "   6.59932996e-03   7.60520151e-03   7.03036597e-03   7.77262803e-03\n",
        "   8.91282434e-03   5.96012302e-03   6.67162948e-03   8.42545935e-03\n",
        "   6.97141234e-03   7.26661543e-03   7.33675453e-03   7.61907490e-03\n",
        "   7.52458395e-03   7.04143266e-03   8.09443470e-03   8.41456621e-03\n",
        "   8.41299984e-03   7.53402706e-03   7.24326596e-03   8.72578620e-03\n",
        "   7.60312770e-03   7.23499821e-03   7.76934001e-03   6.36591048e-03\n",
        "   6.51602410e-03   7.86876230e-03   9.04898718e-03   8.23235244e-03\n",
        "   6.94447833e-03   8.76715416e-03   7.62823915e-03   8.03313196e-03\n",
        "   7.30526340e-03   6.59724061e-03   7.69021299e-03   8.72871545e-03\n",
        "   6.89233912e-03   7.98690523e-03   5.73960612e-03   6.39534312e-03\n",
        "   6.37308602e-03   6.61302216e-03   6.96416266e-03   6.42946192e-03\n",
        "   3.98632848e-03   1.07634083e-02   7.85945895e-03   7.07130935e-03\n",
        "   9.19974724e-03   6.76666967e-03   6.50998865e-03   7.88541605e-03\n",
        "   6.49529503e-03   6.35168291e-03   6.68029703e-03   7.68465581e-03\n",
        "   8.73392747e-03   7.09731139e-03   6.92694316e-03   7.39692266e-03\n",
        "   5.53639507e-03   7.51252070e-03   1.85268538e-02   6.94115747e-03\n",
        "   9.32449294e-03   1.13610732e-02   8.44648817e-03   7.84675156e-03\n",
        "   7.63064046e-03   7.24880975e-03   7.97305578e-03   7.90931051e-03\n",
        "   9.38681668e-03   6.81694814e-03   6.29785466e-03   2.61812627e-04\n",
        "   5.53857416e-03   1.20253651e-04   1.06704215e-04   1.09021460e-04\n",
        "   1.04703184e-04   1.20869161e-04   5.06867253e-05   1.26244592e-04\n",
        "   1.09080160e-02   6.96726578e-03   1.13153870e-02   9.16715390e-03\n",
        "   9.27193087e-05   6.45653714e-03   2.72777710e-04   2.77183720e-04\n",
        "   6.70210614e-03   1.07133208e-02   7.10983125e-03   6.70413422e-03\n",
        "   8.68320290e-03   1.06484280e-02   8.46034599e-02   7.79960072e-02]\n"
       ]
      }
     ],
     "prompt_number": 13
    },
    {
     "cell_type": "code",
     "collapsed": false,
     "input": [
      "tmp = model.feature_importances_\n",
      "test = [(i,j) for i,j in enumerate(tmp)]\n",
      "test = sorted(test, key=lambda x: x[1])\n",
      "indices = [i[0]-3 for i in test]"
     ],
     "language": "python",
     "metadata": {},
     "outputs": [],
     "prompt_number": 20
    },
    {
     "cell_type": "code",
     "collapsed": false,
     "input": [
      "import pickle\n",
      "index = pickle.load(open('../storage/final/full-processed-index.pkl', 'r'))"
     ],
     "language": "python",
     "metadata": {},
     "outputs": [],
     "prompt_number": 25
    },
    {
     "cell_type": "code",
     "collapsed": false,
     "input": [
      "index[indices][:23]"
     ],
     "language": "python",
     "metadata": {},
     "outputs": [
      {
       "metadata": {},
       "output_type": "pyout",
       "prompt_number": 27,
       "text": [
        "array(['Operating Cash Flow / Total Assets', 'Inventory / Total Sales',\n",
        "       'Net Income / Total Assets', 'Total Debt / Total Assets',\n",
        "       'EBIDTA / Total Assets', 'Long Term Debt / Total Assets',\n",
        "       'Total Sales / Total Assets', 'Operating Cash Flow / Total Sales',\n",
        "       'Cash / Total Debt', 'Operating Profit', 'Return on Average Equity',\n",
        "       'pre-tax profit margin', 'Normalized High PE Ratio',\n",
        "       'free cash flow per share', '% of debt/equity-to-industry',\n",
        "       'Net Op. Work. Capital / Total Assets', 'price/revenue ratio',\n",
        "       'High PE Ratio', 'post-tax profit margin',\n",
        "       'long-term debt/total capital', 'Total Assets / NAV',\n",
        "       'effective tax rate', 'Log Index Return'], \n",
        "      dtype='|S41')"
       ]
      }
     ],
     "prompt_number": 27
    },
    {
     "cell_type": "code",
     "collapsed": false,
     "input": [],
     "language": "python",
     "metadata": {},
     "outputs": []
    }
   ],
   "metadata": {}
  }
 ]
}