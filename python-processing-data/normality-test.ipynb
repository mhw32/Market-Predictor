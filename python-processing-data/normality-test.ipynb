{
 "metadata": {
  "name": "",
  "signature": "sha256:df841ccd2af8643f932ff21575733f787da1232216f6d314738665cfd4bccc55"
 },
 "nbformat": 3,
 "nbformat_minor": 0,
 "worksheets": [
  {
   "cells": [
    {
     "cell_type": "heading",
     "level": 2,
     "metadata": {},
     "source": [
      "Normality Test for the Return Data"
     ]
    },
    {
     "cell_type": "markdown",
     "metadata": {},
     "source": [
      "The goal here is to really ensure that the stock price / relative return data we are using is normal in which we can then use T-test analysis for labelling. Scipy conveniently has a nice package for us to use!"
     ]
    },
    {
     "cell_type": "code",
     "collapsed": false,
     "input": [
      "from scipy.stats.mstats import normaltest\n",
      "import scipy.stats as stats\n",
      "from pylab import *\n",
      "import numpy as np\n",
      "%matplotlib inline"
     ],
     "language": "python",
     "metadata": {},
     "outputs": [],
     "prompt_number": 4
    },
    {
     "cell_type": "markdown",
     "metadata": {},
     "source": [
      "<b>Load the data</b> from pickle files"
     ]
    },
    {
     "cell_type": "code",
     "collapsed": false,
     "input": [
      "from pickle import load\n",
      "data = load(open('../storage/wu-processed-data.pkl', 'rb'))\n",
      "index = load(open('../storage/wu-processed-index.pkl', 'rb'))"
     ],
     "language": "python",
     "metadata": {},
     "outputs": [],
     "prompt_number": 5
    },
    {
     "cell_type": "code",
     "collapsed": false,
     "input": [
      "# This function searches by ticker, i.e. 'AA'\n",
      "def search_by_ticker(data, ticker):\n",
      "    return np.array([i for i in data if i[0] == ticker])\n",
      "\n",
      "# This functions searches by index i.e. Log Revenue Return\n",
      "def search_by_index(index, data, spec):\n",
      "    idx = np.where(index == spec)[0][0]\n",
      "    return np.array([i[idx] for i in data])\n",
      "\n",
      "# Combining these let's us get specific columns of specific rows\n",
      "AA = search_by_ticker(data, 'AA')\n",
      "return_AA = search_by_index(index, AA, 'Log Revenue Return')\n",
      "stock_AA = search_by_index(index, AA, 'Stock Adjusted Closing Price')"
     ],
     "language": "python",
     "metadata": {},
     "outputs": [],
     "prompt_number": 6
    },
    {
     "cell_type": "code",
     "collapsed": false,
     "input": [
      "return_AA = np.array([float(i) for i in return_AA])\n",
      "stock_AA = np.array([float(i) for i in stock_AA])"
     ],
     "language": "python",
     "metadata": {},
     "outputs": [],
     "prompt_number": 7
    },
    {
     "cell_type": "code",
     "collapsed": false,
     "input": [
      "h = sorted(return_AA[:len(return_AA)-2])\n",
      "fit = stats.norm.pdf(h, np.mean(h), np.std(h))\n",
      "subplot(211)\n",
      "title('Normality Plot for Data for Log Revenue Return')\n",
      "plot(h, fit,'-o')\n",
      "hist(h, normed=True) \n",
      "grid(True)\n",
      "show()\n",
      "\n",
      "h = sorted(stock_AA[:len(stock_AA)-2])\n",
      "fit = stats.norm.pdf(h, np.mean(h), np.std(h))\n",
      "subplot(212)\n",
      "title('Normality Plot for Data for Stock Price')\n",
      "plot(h, fit,'-o')\n",
      "hist(h, normed=True) \n",
      "grid(True)\n",
      "show()"
     ],
     "language": "python",
     "metadata": {},
     "outputs": [
      {
       "metadata": {},
       "output_type": "display_data",
       "png": "[encoded data removed]",
       "text": [
        "<matplotlib.figure.Figure at 0x10f49cf90>"
       ]
      },
      {
       "metadata": {},
       "output_type": "display_data",
       "png": "[encoded data removed]",
       "text": [
        "<matplotlib.figure.Figure at 0x10f63ded0>"
       ]
      }
     ],
     "prompt_number": 8
    },
    {
     "cell_type": "code",
     "collapsed": false,
     "input": [
      "def visual_normal_test(data):\n",
      "    h = sorted(remove_nan(data))\n",
      "    fit = stats.norm.pdf(h, np.mean(h), np.std(h))\n",
      "    \n",
      "    title('Normality Plot for Data for Log Revenue Return')\n",
      "    plot(h, fit,'-o')\n",
      "    hist(h, normed=True) \n",
      "    grid(True)\n",
      "    show()"
     ],
     "language": "python",
     "metadata": {},
     "outputs": [],
     "prompt_number": 9
    },
    {
     "cell_type": "markdown",
     "metadata": {},
     "source": [
      "<b>Visually speaking</b>: The stock data doesn't look too normal. The return data looks skewed on the left. <b>Now the question is</b>: Can we numerically measure this normality, (instead of visually)"
     ]
    },
    {
     "cell_type": "code",
     "collapsed": false,
     "input": [
      "# I'm going to use a scipy normaltest statistic. It will test skew and with a chi-test: \n",
      "# If the probability is small, then there is a large chance that the distribution is NOT NORMAL."
     ],
     "language": "python",
     "metadata": {},
     "outputs": [],
     "prompt_number": 10
    },
    {
     "cell_type": "code",
     "collapsed": false,
     "input": [
      "import scipy.stats as stats\n",
      "x = stats.norm.rvs(size = 100) # This is a normal distribution.\n",
      "stats.normaltest(x)"
     ],
     "language": "python",
     "metadata": {},
     "outputs": [
      {
       "metadata": {},
       "output_type": "pyout",
       "prompt_number": 11,
       "text": [
        "(2.4372350565846035, 0.29563859653318519)"
       ]
      }
     ],
     "prompt_number": 11
    },
    {
     "cell_type": "code",
     "collapsed": false,
     "input": [
      "# my threshold will be 0.055\n",
      "# If the p-val is very small, it means it is unlikely that the data came from a normal distribution. \n",
      "# 0.05 is the standard threshold, but to be more certain you can raise the certainty like 0.055 or \n",
      "# something else. Its just a threshold of saying yes it is a normal distribution\n",
      "\n",
      "# skew and kurtosis to produce an omnibus test of normality\n",
      "def am_i_normal(data):\n",
      "    chi, p_val = stats.normaltest(data)\n",
      "    print (chi, p_val)\n",
      "    if p_val < 0.055:\n",
      "        return False\n",
      "    return True"
     ],
     "language": "python",
     "metadata": {},
     "outputs": [],
     "prompt_number": 12
    },
    {
     "cell_type": "code",
     "collapsed": false,
     "input": [
      "def remove_nan(data):\n",
      "    return data[~np.isnan(data)]"
     ],
     "language": "python",
     "metadata": {},
     "outputs": [],
     "prompt_number": 13
    },
    {
     "cell_type": "code",
     "collapsed": false,
     "input": [
      "return_AA = remove_nan(return_AA)\n",
      "am_i_normal(return_AA)"
     ],
     "language": "python",
     "metadata": {},
     "outputs": [
      {
       "output_type": "stream",
       "stream": "stdout",
       "text": [
        "(3.5726586110480971, 0.16757415562757463)\n"
       ]
      },
      {
       "metadata": {},
       "output_type": "pyout",
       "prompt_number": 14,
       "text": [
        "True"
       ]
      }
     ],
     "prompt_number": 14
    },
    {
     "cell_type": "markdown",
     "metadata": {},
     "source": [
      "<b>It is normal!</b> Therefore, this is great! We can use the parametric t-test! nice. \n",
      "We should preform this test and make sure that our whole dataset is also nicely distributed."
     ]
    },
    {
     "cell_type": "code",
     "collapsed": false,
     "input": [
      "stock_AA = remove_nan(stock_AA)\n",
      "am_i_normal(stock_AA)"
     ],
     "language": "python",
     "metadata": {},
     "outputs": [
      {
       "output_type": "stream",
       "stream": "stdout",
       "text": [
        "(6.336851845987117, 0.042069766864951265)\n"
       ]
      },
      {
       "metadata": {},
       "output_type": "pyout",
       "prompt_number": 15,
       "text": [
        "False"
       ]
      }
     ],
     "prompt_number": 15
    },
    {
     "cell_type": "code",
     "collapsed": false,
     "input": [
      "#Example of one that i know is not normal\n",
      "y = stats.uniform.rvs(size = 100)\n",
      "am_i_normal(y)"
     ],
     "language": "python",
     "metadata": {},
     "outputs": [
      {
       "output_type": "stream",
       "stream": "stdout",
       "text": [
        "(14.28270594263585, 0.00079168025086940339)\n"
       ]
      },
      {
       "metadata": {},
       "output_type": "pyout",
       "prompt_number": 16,
       "text": [
        "False"
       ]
      }
     ],
     "prompt_number": 16
    },
    {
     "cell_type": "heading",
     "level": 4,
     "metadata": {},
     "source": [
      "Done. Test for normality finished."
     ]
    },
    {
     "cell_type": "heading",
     "level": 4,
     "metadata": {},
     "source": [
      "<b>Let's try to make this work for the scaled data.</b>"
     ]
    },
    {
     "cell_type": "code",
     "collapsed": false,
     "input": [
      "from pickle import load\n",
      "data = load(open('../storage/final/full-processed-data.pkl', 'rb'))\n",
      "index = load(open('../storage/final/full-processed-index.pkl', 'rb'))"
     ],
     "language": "python",
     "metadata": {},
     "outputs": [],
     "prompt_number": 19
    },
    {
     "cell_type": "code",
     "collapsed": false,
     "input": [
      "AA = search_by_ticker(data, 'AA')\n",
      "stock_AA = search_by_index(index, AA, 'Log Stock Return')\n",
      "index_AA = search_by_index(index, AA, 'Log Index Return')"
     ],
     "language": "python",
     "metadata": {},
     "outputs": [],
     "prompt_number": 20
    },
    {
     "cell_type": "code",
     "collapsed": false,
     "input": [
      "len(stock_AA), len(index_AA)"
     ],
     "language": "python",
     "metadata": {},
     "outputs": [
      {
       "metadata": {},
       "output_type": "pyout",
       "prompt_number": 23,
       "text": [
        "(496, 496)"
       ]
      }
     ],
     "prompt_number": 23
    },
    {
     "cell_type": "code",
     "collapsed": false,
     "input": [
      "stock_AA = np.array([float(i) for i in stock_AA])\n",
      "index_AA = np.array([float(i) for i in index_AA])"
     ],
     "language": "python",
     "metadata": {},
     "outputs": [],
     "prompt_number": 24
    },
    {
     "cell_type": "code",
     "collapsed": false,
     "input": [
      "stock_AA = remove_nan(stock_AA)\n",
      "am_i_normal(stock_AA)"
     ],
     "language": "python",
     "metadata": {},
     "outputs": [
      {
       "output_type": "stream",
       "stream": "stdout",
       "text": [
        "(26.758231659685123, 1.5471193657579872e-06)\n"
       ]
      },
      {
       "metadata": {},
       "output_type": "pyout",
       "prompt_number": 25,
       "text": [
        "False"
       ]
      }
     ],
     "prompt_number": 25
    },
    {
     "cell_type": "code",
     "collapsed": false,
     "input": [
      "index_AA = remove_nan(index_AA)\n",
      "am_i_normal(index_AA)"
     ],
     "language": "python",
     "metadata": {},
     "outputs": [
      {
       "output_type": "stream",
       "stream": "stdout",
       "text": [
        "(322.25454564838157, 1.0551507897549791e-70)\n"
       ]
      },
      {
       "metadata": {},
       "output_type": "pyout",
       "prompt_number": 26,
       "text": [
        "False"
       ]
      }
     ],
     "prompt_number": 26
    },
    {
     "cell_type": "code",
     "collapsed": false,
     "input": [],
     "language": "python",
     "metadata": {},
     "outputs": []
    }
   ],
   "metadata": {}
  }
 ]
}