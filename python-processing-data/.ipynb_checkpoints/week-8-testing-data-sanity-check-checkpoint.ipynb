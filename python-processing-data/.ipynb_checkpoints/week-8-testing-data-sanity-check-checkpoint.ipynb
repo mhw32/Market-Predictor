{
 "metadata": {
  "name": "",
  "signature": "sha256:d8ef48c9d977951d4c5ca2ef5a27a566174688978a4cbf6322939d47f04a01ea"
 },
 "nbformat": 3,
 "nbformat_minor": 0,
 "worksheets": [
  {
   "cells": [
    {
     "cell_type": "heading",
     "level": 2,
     "metadata": {},
     "source": [
      "[WEEK 8] The SOM is designed and ready to go. The only part left is to make sure that I have the data we need to test with AKA past two years. "
     ]
    },
    {
     "cell_type": "code",
     "collapsed": false,
     "input": [
      "from scipy.io import loadmat\n",
      "import numpy as np"
     ],
     "language": "python",
     "metadata": {},
     "outputs": [],
     "prompt_number": 27
    },
    {
     "cell_type": "code",
     "collapsed": false,
     "input": [
      "data = loadmat('../storage/final/descriptive_values.mat')"
     ],
     "language": "python",
     "metadata": {},
     "outputs": [],
     "prompt_number": 29
    },
    {
     "cell_type": "code",
     "collapsed": false,
     "input": [
      "# raw_feature_data doesn't really need any processing, but let's deal with descriptive data before we combine them\n",
      "def pythonify_data(raw_data):\n",
      "    data = []\n",
      "    for i in raw_data:\n",
      "        data.append(np.array([str(j[0]) for j in i]))\n",
      "    return np.array(data)"
     ],
     "language": "python",
     "metadata": {},
     "outputs": [],
     "prompt_number": 33
    },
    {
     "cell_type": "code",
     "collapsed": false,
     "input": [
      "data = pythonify_data(data['tmp'])"
     ],
     "language": "python",
     "metadata": {},
     "outputs": [],
     "prompt_number": 34
    },
    {
     "cell_type": "code",
     "collapsed": false,
     "input": [
      "dates = []\n",
      "for i in range(len(data)):\n",
      "    if data[i][0] == 'AA':\n",
      "        while data[i][0] == 'AA':\n",
      "            dates.append(data[i][1])\n",
      "            i += 1\n",
      "        break"
     ],
     "language": "python",
     "metadata": {},
     "outputs": [],
     "prompt_number": 39
    },
    {
     "cell_type": "heading",
     "level": 4,
     "metadata": {},
     "source": [
      "This data is really messy. I think the best thing to do is to regrab all the data online BUT only if there exists data from 2013 and above. We don't need to label this data since we are going to be using SOM to predict labels. "
     ]
    },
    {
     "cell_type": "code",
     "collapsed": false,
     "input": [],
     "language": "python",
     "metadata": {},
     "outputs": []
    }
   ],
   "metadata": {}
  }
 ]
}