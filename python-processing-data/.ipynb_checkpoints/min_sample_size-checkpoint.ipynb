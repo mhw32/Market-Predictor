{
 "metadata": {
  "name": "",
  "signature": "sha256:58ca61427bf481d7d39a839ef657656d17e2f6b8fc72db1869e50f03bd64ba03"
 },
 "nbformat": 3,
 "nbformat_minor": 0,
 "worksheets": [
  {
   "cells": [
    {
     "cell_type": "heading",
     "level": 3,
     "metadata": {},
     "source": [
      "What is the minimum sample size needed to guarantee 5% return with 80% power"
     ]
    },
    {
     "cell_type": "code",
     "collapsed": false,
     "input": [
      "import numpy as np"
     ],
     "language": "python",
     "metadata": {},
     "outputs": [],
     "prompt_number": 1
    },
    {
     "cell_type": "code",
     "collapsed": false,
     "input": [
      "def get_min_sample_size(index_return, sigma):\n",
      "    # index_return = index_price_end/index_price_start\n",
      "    # sigma = sqrt(variance) = standard deviation\n",
      "    tau = log((0.05 / 52 + index_return) / index_return) \n",
      "    n = (2.48 * sigma / float(tau))**2\n",
      "    return n"
     ],
     "language": "python",
     "metadata": {},
     "outputs": [],
     "prompt_number": 2
    },
    {
     "cell_type": "code",
     "collapsed": false,
     "input": [
      "# http://en.wikipedia.org/wiki/Statistical_power#Example"
     ],
     "language": "python",
     "metadata": {},
     "outputs": []
    }
   ],
   "metadata": {}
  }
 ]
}