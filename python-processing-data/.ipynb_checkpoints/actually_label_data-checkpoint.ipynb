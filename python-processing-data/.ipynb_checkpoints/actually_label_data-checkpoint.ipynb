{
 "metadata": {
  "name": "",
  "signature": "sha256:9b837df687905763a1f869c652d76a70dc6bb546e860c9739e995201b06f420c"
 },
 "nbformat": 3,
 "nbformat_minor": 0,
 "worksheets": [
  {
   "cells": [
    {
     "cell_type": "code",
     "collapsed": false,
     "input": [
      "from pickle import load\n",
      "data = load(open('../storage/final/full-processed-data.pkl', 'rb'))\n",
      "index = load(open('../storage/final/full-processed-index.pkl', 'rb'))\n",
      "\n",
      "# Import all the stuff that I need\n",
      "from __future__ import division, print_function\n",
      "import numpy as np\n",
      "import matplotlib.pyplot as plt\n",
      "%matplotlib inline\n",
      "import sys\n",
      "\n",
      "sys.path.insert(1, r'./')\n",
      "from detect_cusum import detect_cusum\n",
      "from label_data import *"
     ],
     "language": "python",
     "metadata": {},
     "outputs": []
    },
    {
     "cell_type": "code",
     "collapsed": false,
     "input": [
      "tickers = unique(data[:, 0])"
     ],
     "language": "python",
     "metadata": {},
     "outputs": []
    },
    {
     "cell_type": "code",
     "collapsed": false,
     "input": [
      "vectors_labels = []\n",
      "for i in tickers:\n",
      "    print('Running %s... Complete.' % i)\n",
      "    vectors_labels.append(wrapper_label_full_stock(data, index, i))"
     ],
     "language": "python",
     "metadata": {},
     "outputs": []
    },
    {
     "cell_type": "code",
     "collapsed": false,
     "input": [],
     "language": "python",
     "metadata": {},
     "outputs": []
    }
   ],
   "metadata": {}
  }
 ]
}