{
 "metadata": {
  "name": "",
  "signature": "sha256:926e1d221b7b66d34d77d09bec12fc8ae4b171117f3402ba04bd4dfe1c0114e5"
 },
 "nbformat": 3,
 "nbformat_minor": 0,
 "worksheets": [
  {
   "cells": [
    {
     "cell_type": "heading",
     "level": 2,
     "metadata": {},
     "source": [
      "This iPython Notebook is used to document the code developed for the Machine Learning Project (supervised by Irina) -- Mike Wu"
     ]
    },
    {
     "cell_type": "markdown",
     "metadata": {},
     "source": [
      "The abstract here is to use CUSUM and t-tests to label data. Further development includes SOM as the model to train/predict."
     ]
    },
    {
     "cell_type": "heading",
     "level": 3,
     "metadata": {},
     "source": [
      "Let's read in the .MAT file into iPython"
     ]
    },
    {
     "cell_type": "code",
     "collapsed": false,
     "input": [
      "from scipy.io import loadmat\n",
      "import numpy as np"
     ],
     "language": "python",
     "metadata": {},
     "outputs": [],
     "prompt_number": 2
    },
    {
     "cell_type": "code",
     "collapsed": false,
     "input": [
      "data = loadmat('../storage/wu-example-full-matrix-data.mat')\n",
      "raw_feature_index   = data['full_matrix'][:, 0][0][0]\n",
      "raw_feature_data    = data['full_matrix'][:, 1][0]\n",
      "raw_descript_index  = data['full_matrix'][:, 2][0][0]\n",
      "raw_descript_data   = data['full_matrix'][:, 3][0]"
     ],
     "language": "python",
     "metadata": {},
     "outputs": [],
     "prompt_number": 3
    },
    {
     "cell_type": "markdown",
     "metadata": {},
     "source": [
      "Let's make sure it has the <b>right size</b>. It turns out the <b>nan</b> are handled, and the shapes work."
     ]
    },
    {
     "cell_type": "code",
     "collapsed": false,
     "input": [
      "raw_feature_data.shape, raw_descript_data.shape"
     ],
     "language": "python",
     "metadata": {},
     "outputs": [
      {
       "metadata": {},
       "output_type": "pyout",
       "prompt_number": 4,
       "text": [
        "((33069, 124), (33069, 3))"
       ]
      }
     ],
     "prompt_number": 4
    },
    {
     "cell_type": "markdown",
     "metadata": {},
     "source": [
      "Let's first convert this to a nice python format -- ie, handle strings well"
     ]
    },
    {
     "cell_type": "code",
     "collapsed": false,
     "input": [
      "def pythonify_stringify(matstr):\n",
      "    return np.array([str(i[0]) for i in matstr])"
     ],
     "language": "python",
     "metadata": {},
     "outputs": [],
     "prompt_number": 12
    },
    {
     "cell_type": "code",
     "collapsed": false,
     "input": [
      "descript_index = pythonify_stringify(raw_descript_index)\n",
      "feature_index  = pythonify_stringify(raw_feature_index)"
     ],
     "language": "python",
     "metadata": {},
     "outputs": [],
     "prompt_number": 6
    },
    {
     "cell_type": "code",
     "collapsed": false,
     "input": [
      "index = np.concatenate((descript_index, feature_index), axis=0)"
     ],
     "language": "python",
     "metadata": {},
     "outputs": [],
     "prompt_number": 7
    },
    {
     "cell_type": "markdown",
     "metadata": {},
     "source": [
      "Now instead of having <b>separate storage arrays</b>, let's combine the decriptive and feature datas"
     ]
    },
    {
     "cell_type": "code",
     "collapsed": false,
     "input": [
      "# raw_feature_data doesn't really need any processing, but let's deal with descriptive data before we combine them\n",
      "def pythonify_data(raw_data):\n",
      "    data = []\n",
      "    for i in raw_data:\n",
      "        data.append(np.array([str(j[0]) for j in i]))\n",
      "    return np.array(data)"
     ],
     "language": "python",
     "metadata": {},
     "outputs": [],
     "prompt_number": 11
    },
    {
     "cell_type": "code",
     "collapsed": false,
     "input": [
      "descript_data = pythonify_data(raw_descript_data)"
     ],
     "language": "python",
     "metadata": {},
     "outputs": [],
     "prompt_number": 9
    },
    {
     "cell_type": "code",
     "collapsed": false,
     "input": [
      "# Now we can actually combine this stuff... to get simple data.\n",
      "descript_data"
     ],
     "language": "python",
     "metadata": {},
     "outputs": [
      {
       "metadata": {},
       "output_type": "pyout",
       "prompt_number": 10,
       "text": [
        "array([['A', '1998-01-01', '1998-03-31'],\n",
        "       ['A', '1999-04-01', '1999-06-30'],\n",
        "       ['A', '1999-07-01', '1999-09-30'],\n",
        "       ..., \n",
        "       ['MPET', '1994-04-01', '1994-06-30'],\n",
        "       ['MPET', '1994-07-01', '1994-09-30'],\n",
        "       ['MPET', '1995-10-01', '1995-12-31']], \n",
        "      dtype='|S10')"
       ]
      }
     ],
     "prompt_number": 10
    },
    {
     "cell_type": "code",
     "collapsed": false,
     "input": [
      "def combinify(descriptions, features):\n",
      "    return np.array([np.concatenate((i, j), axis=0) for i, j in zip(descriptions, features)])"
     ],
     "language": "python",
     "metadata": {},
     "outputs": [],
     "prompt_number": 13
    },
    {
     "cell_type": "code",
     "collapsed": false,
     "input": [
      "data = combinify(descript_data, raw_feature_data)"
     ],
     "language": "python",
     "metadata": {},
     "outputs": [],
     "prompt_number": 12
    },
    {
     "cell_type": "code",
     "collapsed": false,
     "input": [
      "data.shape, index.shape"
     ],
     "language": "python",
     "metadata": {},
     "outputs": [
      {
       "metadata": {},
       "output_type": "pyout",
       "prompt_number": 13,
       "text": [
        "((33069, 127), (127,))"
       ]
      }
     ],
     "prompt_number": 13
    },
    {
     "cell_type": "code",
     "collapsed": false,
     "input": [
      "data"
     ],
     "language": "python",
     "metadata": {},
     "outputs": [
      {
       "metadata": {},
       "output_type": "pyout",
       "prompt_number": 14,
       "text": [
        "array([['A', '1998-01-01', '1998-03-31', ..., '0.71734752', 'nan', 'nan'],\n",
        "       ['A', '1999-04-01', '1999-06-30', ..., 'nan', 'nan', 'nan'],\n",
        "       ['A', '1999-07-01', '1999-09-30', ..., 'nan', 'nan', 'nan'],\n",
        "       ..., \n",
        "       ['MPET', '1994-04-01', '1994-06-30', ..., '0.61941251', 'nan', 'nan'],\n",
        "       ['MPET', '1994-07-01', '1994-09-30', ..., '0.61696969', 'nan', 'nan'],\n",
        "       ['MPET', '1995-10-01', '1995-12-31', ..., '0.62020460', 'nan', 'nan']], \n",
        "      dtype='|S10')"
       ]
      }
     ],
     "prompt_number": 14
    },
    {
     "cell_type": "markdown",
     "metadata": {},
     "source": [
      "Just for save measure, let's save it in a pickle"
     ]
    },
    {
     "cell_type": "code",
     "collapsed": false,
     "input": [
      "from pickle import dump\n",
      "dump(data, open('./storage/wu-processed-data.pkl', 'wb'))\n",
      "dump(index, open('./storage/wu-processed-index.pkl', 'wb'))"
     ],
     "language": "python",
     "metadata": {},
     "outputs": [],
     "prompt_number": 159
    },
    {
     "cell_type": "heading",
     "level": 4,
     "metadata": {},
     "source": [
      "Done. Notebook will be closed. Further processing done in CUSUM notebook."
     ]
    },
    {
     "cell_type": "markdown",
     "metadata": {},
     "source": [
      "Let's try the total data "
     ]
    },
    {
     "cell_type": "code",
     "collapsed": false,
     "input": [
      "data = loadmat('../storage/final/full_matrix.mat')"
     ],
     "language": "python",
     "metadata": {},
     "outputs": [],
     "prompt_number": 8
    },
    {
     "cell_type": "code",
     "collapsed": false,
     "input": [
      "def mat2py(filepath, obj):\n",
      "    # Load mat from matlab file\n",
      "    data = loadmat(filepath)\n",
      "    raw_feature_index   = data[obj][:, 0][0][0]\n",
      "    raw_feature_data    = data[obj][:, 1][0]\n",
      "    raw_descript_index  = data[obj][:, 2][0][0]\n",
      "    raw_descript_data   = data[obj][:, 3][0]\n",
      "    # Process the variables into readable Python vars\n",
      "    descript_index = pythonify_stringify(raw_descript_index)\n",
      "    feature_index  = pythonify_stringify(raw_feature_index)\n",
      "    index = np.concatenate((descript_index, feature_index), axis=0)\n",
      "    # Combine them \n",
      "    descript_data = pythonify_data(raw_descript_data)\n",
      "    data = combinify(descript_data, raw_feature_data)\n",
      "\n",
      "    return index, data"
     ],
     "language": "python",
     "metadata": {},
     "outputs": [],
     "prompt_number": 10
    },
    {
     "cell_type": "code",
     "collapsed": false,
     "input": [
      "index, data = mat2py('../storage/final/full_matrix.mat', 'matrix')"
     ],
     "language": "python",
     "metadata": {},
     "outputs": [],
     "prompt_number": 14
    },
    {
     "cell_type": "code",
     "collapsed": false,
     "input": [
      "from pickle import dump\n",
      "dump(data, open('../storage/final/full-processed-data.pkl', 'wb'))\n",
      "dump(index, open('../storage/final/full-processed-index.pkl', 'wb'))"
     ],
     "language": "python",
     "metadata": {},
     "outputs": [],
     "prompt_number": 17
    },
    {
     "cell_type": "code",
     "collapsed": false,
     "input": [],
     "language": "python",
     "metadata": {},
     "outputs": []
    }
   ],
   "metadata": {}
  }
 ]
}