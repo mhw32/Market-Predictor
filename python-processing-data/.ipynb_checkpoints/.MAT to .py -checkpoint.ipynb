{
 "metadata": {
  "name": "",
  "signature": "sha256:0ef0ff026b53f631eb926266115487f3f5b6bdf46c5cb4121ea9d2f007b76bc8"
 },
 "nbformat": 3,
 "nbformat_minor": 0,
 "worksheets": [
  {
   "cells": [
    {
     "cell_type": "heading",
     "level": 2,
     "metadata": {},
     "source": [
      "Transfer File from .MAT to Python Script"
     ]
    },
    {
     "cell_type": "code",
     "collapsed": false,
     "input": [
      "from scipy.io import loadmat\n",
      "import numpy as np"
     ],
     "language": "python",
     "metadata": {},
     "outputs": [],
     "prompt_number": 1
    },
    {
     "cell_type": "markdown",
     "metadata": {},
     "source": [
      "Load the data from <b>saved matlab folder</b> (.mat)"
     ]
    },
    {
     "cell_type": "code",
     "collapsed": false,
     "input": [
      "data = loadmat('../wu-example-matrix-data.mat')\n",
      "data = data['F']"
     ],
     "language": "python",
     "metadata": {},
     "outputs": [],
     "prompt_number": 14
    },
    {
     "cell_type": "code",
     "collapsed": false,
     "input": [
      "data.shape"
     ],
     "language": "python",
     "metadata": {},
     "outputs": [
      {
       "metadata": {},
       "output_type": "pyout",
       "prompt_number": 17,
       "text": [
        "(33069, 124)"
       ]
      }
     ],
     "prompt_number": 17
    },
    {
     "cell_type": "markdown",
     "metadata": {},
     "source": [
      "This size <b>is correct</b>!<br> Which means now we can do anything we want to <b>manipulate data</b> in python. "
     ]
    }
   ],
   "metadata": {}
  }
 ]
}