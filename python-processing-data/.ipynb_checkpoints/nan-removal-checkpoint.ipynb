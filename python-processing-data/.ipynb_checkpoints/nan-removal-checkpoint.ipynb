{
 "metadata": {
  "name": "",
  "signature": "sha256:827f5b23c76ce1576c633fa6750f2063790243d5e0be3261e03d856ea6c7f9fe"
 },
 "nbformat": 3,
 "nbformat_minor": 0,
 "worksheets": [
  {
   "cells": [
    {
     "cell_type": "heading",
     "level": 2,
     "metadata": {},
     "source": [
      "Our data has a lot of NaN's at the moment, so we need to figure out its distribution and how to best handle their removal."
     ]
    },
    {
     "cell_type": "markdown",
     "metadata": {},
     "source": [
      "Let's load the data into the format so we can see what is going on with NaN's"
     ]
    },
    {
     "cell_type": "code",
     "collapsed": false,
     "input": [
      "from label_data import *"
     ],
     "language": "python",
     "metadata": {},
     "outputs": [],
     "prompt_number": 3
    },
    {
     "cell_type": "markdown",
     "metadata": {},
     "source": [
      "<b>Deal with NaN\u2019s</b>\n",
      "1. Let\u2019s get some statistics about which columns, and which rows have NaN\u2019s\n",
      "2. What percentage of the rows / columns have NaN\u2019s? Let\u2019s consider removing the features that have a lot of the NaNs\u2026. \n",
      "3. What if instead of removing features, we remove certain rows (time sections) that do have a lot of NaNs\u2026 Depends on the distribution of NaNs?"
     ]
    },
    {
     "cell_type": "code",
     "collapsed": false,
     "input": [
      "index, data = load_data('../storage/final/full-processed-index.pkl', '../storage/final/full-processed-data.pkl')"
     ],
     "language": "python",
     "metadata": {},
     "outputs": [],
     "prompt_number": 4
    },
    {
     "cell_type": "code",
     "collapsed": false,
     "input": [
      "# Horizontal slices is one feature vector at a time IE data[i]\n",
      "# Vertical slices is one feature (for all vectors) at a time IE data[:. i]\n",
      "nan_counts = []\n",
      "valid_segment = np.array(range(3, 124))\n",
      "for i in valid_segment:\n",
      "    feature       = data[:, i].astype(np.float32)\n",
      "    nan_fraction  = np.sum(np.isnan(feature)) / float(len(feature)) * 100\n",
      "    nan_counts.append(nan_fraction)"
     ],
     "language": "python",
     "metadata": {},
     "outputs": [],
     "prompt_number": 205
    },
    {
     "cell_type": "code",
     "collapsed": false,
     "input": [
      "%matplotlib inline\n",
      "title(\"Percentage of NaN's against Feature Number\")\n",
      "plot(nan_counts)\n",
      "grid(True)\n",
      "show()"
     ],
     "language": "python",
     "metadata": {},
     "outputs": [
      {
       "metadata": {},
       "output_type": "display_data",
       "png": "[encoded data removed]",
       "text": [
        "<matplotlib.figure.Figure at 0x10fde7c90>"
       ]
      }
     ],
     "prompt_number": 206
    },
    {
     "cell_type": "markdown",
     "metadata": {},
     "source": [
      "Let us set a <b>threshold</b> so that we probably should ignore features with a large percentage of NaNs.... <b>which feature is this?</b>"
     ]
    },
    {
     "cell_type": "code",
     "collapsed": false,
     "input": [
      "nan_indices = [i for i in range(len(nan_counts)) if nan_counts[i] > 10.0]\n",
      "start = 3 # add 3 because that's where we started\n",
      "nan_indices = [i+start for i in nan_indices]"
     ],
     "language": "python",
     "metadata": {},
     "outputs": [],
     "prompt_number": 209
    },
    {
     "cell_type": "code",
     "collapsed": false,
     "input": [
      "nan_indices"
     ],
     "language": "python",
     "metadata": {},
     "outputs": [
      {
       "metadata": {},
       "output_type": "pyout",
       "prompt_number": 210,
       "text": [
        "[13, 21, 24, 43, 71, 108, 109, 117]"
       ]
      }
     ],
     "prompt_number": 210
    },
    {
     "cell_type": "code",
     "collapsed": false,
     "input": [
      "[index[i] for i in nan_indices]"
     ],
     "language": "python",
     "metadata": {},
     "outputs": [
      {
       "metadata": {},
       "output_type": "pyout",
       "prompt_number": 211,
       "text": [
        "['income per employee',\n",
        " 'normalized income per employee',\n",
        " 'payout ratio',\n",
        " 'number of days cost of goods in inventory',\n",
        " 'sales per employee',\n",
        " 'Accounts Receivable / Total Sales',\n",
        " 'Inventory / Total Sales',\n",
        " 'Fixed Asset Turnover']"
       ]
      }
     ],
     "prompt_number": 211
    },
    {
     "cell_type": "heading",
     "level": 4,
     "metadata": {},
     "source": [
      "I'm not sure if these are particularly important, but even if they are... it is extremely difficult to work with data that is ~30-80 percent NaNs...."
     ]
    },
    {
     "cell_type": "markdown",
     "metadata": {},
     "source": [
      "Let's go ahead and <b>remove</b> these from the features..."
     ]
    },
    {
     "cell_type": "code",
     "collapsed": false,
     "input": [
      "import copy\n",
      "cdata = copy.copy(data)\n",
      "cindex = copy.copy(index)"
     ],
     "language": "python",
     "metadata": {},
     "outputs": [],
     "prompt_number": 212
    },
    {
     "cell_type": "code",
     "collapsed": false,
     "input": [
      "for i in range(len(nan_indices)):\n",
      "    print '-- ' + cindex[nan_indices[i]] + ' --'\n",
      "    cindex = np.delete(cindex, nan_indices[i], 0)\n",
      "    cdata  = np.delete(cdata,  nan_indices[i], 1)\n",
      "    for j in range(len(nan_indices)):\n",
      "        nan_indices[j] = nan_indices[j] - 1"
     ],
     "language": "python",
     "metadata": {},
     "outputs": [
      {
       "output_type": "stream",
       "stream": "stdout",
       "text": [
        "-- income per employee --\n",
        "-- normalized income per employee --"
       ]
      },
      {
       "output_type": "stream",
       "stream": "stdout",
       "text": [
        "\n",
        "-- payout ratio --"
       ]
      },
      {
       "output_type": "stream",
       "stream": "stdout",
       "text": [
        "\n",
        "-- number of days cost of goods in inventory --"
       ]
      },
      {
       "output_type": "stream",
       "stream": "stdout",
       "text": [
        "\n",
        "-- sales per employee --"
       ]
      },
      {
       "output_type": "stream",
       "stream": "stdout",
       "text": [
        "\n",
        "-- Accounts Receivable / Total Sales --"
       ]
      },
      {
       "output_type": "stream",
       "stream": "stdout",
       "text": [
        "\n",
        "-- Inventory / Total Sales --"
       ]
      },
      {
       "output_type": "stream",
       "stream": "stdout",
       "text": [
        "\n",
        "-- Fixed Asset Turnover --"
       ]
      },
      {
       "output_type": "stream",
       "stream": "stdout",
       "text": [
        "\n"
       ]
      }
     ],
     "prompt_number": 213
    },
    {
     "cell_type": "code",
     "collapsed": false,
     "input": [
      "cdata.shape, cindex.shape"
     ],
     "language": "python",
     "metadata": {},
     "outputs": [
      {
       "metadata": {},
       "output_type": "pyout",
       "prompt_number": 214,
       "text": [
        "((1162479, 119), (119,))"
       ]
      }
     ],
     "prompt_number": 214
    },
    {
     "cell_type": "markdown",
     "metadata": {},
     "source": [
      "Now.... let's try to replot the percentage nan's again and ensure that what we did worked somewhat... "
     ]
    },
    {
     "cell_type": "code",
     "collapsed": false,
     "input": [
      "# Horizontal slices is one feature vector at a time IE data[i]\n",
      "# Vertical slices is one feature (for all vectors) at a time IE data[:. i]\n",
      "nan_counts = []\n",
      "valid_segment = np.array(range(3, 117))\n",
      "for i in valid_segment:\n",
      "    feature       = cdata[:, i].astype(np.float32)\n",
      "    nan_fraction  = np.sum(np.isnan(feature)) / float(len(feature)) * 100\n",
      "    nan_counts.append(nan_fraction)"
     ],
     "language": "python",
     "metadata": {},
     "outputs": [],
     "prompt_number": 221
    },
    {
     "cell_type": "code",
     "collapsed": false,
     "input": [
      "title(\"[AFTER PURGE] Percentage of NaN's against Feature Number\")\n",
      "plot(nan_counts)\n",
      "grid(True)\n",
      "show()\n",
      "\n",
      "# Notice that all of these are under 10% so it's pretty good! We can also push this \n",
      "# under 1 percent to be honest"
     ],
     "language": "python",
     "metadata": {},
     "outputs": [
      {
       "metadata": {},
       "output_type": "display_data",
       "png": "[encoded data removed]",
       "text": [
        "<matplotlib.figure.Figure at 0x10fdebc90>"
       ]
      }
     ],
     "prompt_number": 224
    },
    {
     "cell_type": "heading",
     "level": 3,
     "metadata": {},
     "source": [
      "What happens if we try rows! We might want to delete rows instead of columns so we don't lose entire features."
     ]
    },
    {
     "cell_type": "code",
     "collapsed": false,
     "input": [
      "nan_rows = []\n",
      "for i in range(data.shape[0]):\n",
      "    vector = data[i][3:125].astype(np.float32)\n",
      "    nan_fraction  = np.sum(np.isnan(vector)) / float(len(vector)) * 100\n",
      "    nan_rows.append(nan_fraction)"
     ],
     "language": "python",
     "metadata": {},
     "outputs": [],
     "prompt_number": 234
    },
    {
     "cell_type": "code",
     "collapsed": false,
     "input": [
      "title(\"Percentage of NaN's as Rows\")\n",
      "plot(nan_rows)\n",
      "grid(True)\n",
      "show()"
     ],
     "language": "python",
     "metadata": {},
     "outputs": [
      {
       "metadata": {},
       "output_type": "display_data",
       "png": "[encoded data removed]",
       "text": [
        "<matplotlib.figure.Figure at 0x10fe07f90>"
       ]
      }
     ],
     "prompt_number": 245
    },
    {
     "cell_type": "markdown",
     "metadata": {},
     "source": [
      "We can investigate more but I can see here that it's bad that to do this because so many of them are around 70! We would lose a lot of data -- inconsistent times. If things really don't work out with feature subtraction (based on NaN) then I'll try this row selection"
     ]
    },
    {
     "cell_type": "heading",
     "level": 4,
     "metadata": {},
     "source": [
      "We should also look for Infinities... use numpy.isinf(x[, out]) and wrap everything into a function!"
     ]
    },
    {
     "cell_type": "code",
     "collapsed": false,
     "input": [
      "def remove_bad(index, data, thres, plotting=False):\n",
      "    bad_counts = []\n",
      "    start = 3 # add 3 because that's where we started\n",
      "    end   = 124\n",
      "    # we ignore the first 3 and the last 2 because the first 3 = descriptive measures, and last 2 = return data\n",
      "    valid_segment = np.array(range(start, end))\n",
      "    for i in valid_segment:\n",
      "        feature       = data[:, i].astype(np.float32)\n",
      "        nan_fraction  = np.sum(np.isnan(feature)) / float(len(feature)) * 100\n",
      "        inf_fraction  = np.sum(np.isinf(feature)) / float(len(feature)) * 100\n",
      "        bad_counts.append(nan_fraction + inf_fraction)\n",
      "        \n",
      "    bad_indices = [i for i in range(len(bad_counts)) if bad_counts[i] > thres]\n",
      "    bad_indices = [i+start for i in bad_indices]\n",
      "    \n",
      "    # Remove the indices found\n",
      "    for i in range(len(bad_indices)):\n",
      "        index = np.delete(index, bad_indices[i], 0)\n",
      "        data  = np.delete(data,  bad_indices[i], 1)\n",
      "        for j in range(len(bad_indices)):\n",
      "            bad_indices[j] = bad_indices[j]-1\n",
      "    \n",
      "    if plotting == True:\n",
      "        title(\"Percentage of NaN/Inf's against Feature Number\")\n",
      "        plot(bad_counts)\n",
      "        grid(True)\n",
      "        show()\n",
      "    \n",
      "    return index, data"
     ],
     "language": "python",
     "metadata": {},
     "outputs": [],
     "prompt_number": 275
    },
    {
     "cell_type": "code",
     "collapsed": false,
     "input": [
      "import copy\n",
      "cdata = copy.copy(data)\n",
      "cindex = copy.copy(index)"
     ],
     "language": "python",
     "metadata": {},
     "outputs": [],
     "prompt_number": 276
    },
    {
     "cell_type": "code",
     "collapsed": false,
     "input": [
      "cindex, cdata = remove_bad(cindex, cdata, 1.0)"
     ],
     "language": "python",
     "metadata": {},
     "outputs": [],
     "prompt_number": 277
    },
    {
     "cell_type": "markdown",
     "metadata": {},
     "source": [
      "<b>Before</b> any usage of feature selections, I've trimmed it down to <b>81 features</b> just by nature of what is usable"
     ]
    },
    {
     "cell_type": "code",
     "collapsed": false,
     "input": [],
     "language": "python",
     "metadata": {},
     "outputs": []
    }
   ],
   "metadata": {}
  }
 ]
}