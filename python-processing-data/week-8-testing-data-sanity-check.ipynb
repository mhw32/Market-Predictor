{
 "metadata": {
  "name": "",
  "signature": "sha256:737908faec0e2fae701a463d67e528864c2a96a24c17f6c924400ef99f3fa655"
 },
 "nbformat": 3,
 "nbformat_minor": 0,
 "worksheets": [
  {
   "cells": [
    {
     "cell_type": "heading",
     "level": 2,
     "metadata": {},
     "source": [
      "[WEEK 8] The SOM is designed and ready to go. The only part left is to make sure that I have the data we need to test with AKA past two years. "
     ]
    },
    {
     "cell_type": "code",
     "collapsed": false,
     "input": [
      "from scipy.io import loadmat\n",
      "import numpy as np"
     ],
     "language": "python",
     "metadata": {},
     "outputs": [],
     "prompt_number": 27
    },
    {
     "cell_type": "code",
     "collapsed": false,
     "input": [
      "data = loadmat('../storage/final/descriptive_values.mat')"
     ],
     "language": "python",
     "metadata": {},
     "outputs": [],
     "prompt_number": 29
    },
    {
     "cell_type": "code",
     "collapsed": false,
     "input": [
      "# raw_feature_data doesn't really need any processing, but let's deal with descriptive data before we combine them\n",
      "def pythonify_data(raw_data):\n",
      "    data = []\n",
      "    for i in raw_data:\n",
      "        data.append(np.array([str(j[0]) for j in i]))\n",
      "    return np.array(data)"
     ],
     "language": "python",
     "metadata": {},
     "outputs": [],
     "prompt_number": 33
    },
    {
     "cell_type": "code",
     "collapsed": false,
     "input": [
      "data = pythonify_data(data['tmp'])"
     ],
     "language": "python",
     "metadata": {},
     "outputs": [],
     "prompt_number": 34
    },
    {
     "cell_type": "code",
     "collapsed": false,
     "input": [
      "dates = []\n",
      "for i in range(len(data)):\n",
      "    if data[i][0] == 'AA':\n",
      "        while data[i][0] == 'AA':\n",
      "            dates.append(data[i][1])\n",
      "            i += 1\n",
      "        break"
     ],
     "language": "python",
     "metadata": {},
     "outputs": [],
     "prompt_number": 39
    },
    {
     "cell_type": "heading",
     "level": 4,
     "metadata": {},
     "source": [
      "This data is really messy. I think the best thing to do is to regrab all the data online BUT only if there exists data from 2013 and above. We don't need to label this data since we are going to be using SOM to predict labels. "
     ]
    },
    {
     "cell_type": "markdown",
     "metadata": {},
     "source": [
      "We actually have all the data so we just need to find the ones from 2013 to now and not use those. Those will exclusively be for testing"
     ]
    },
    {
     "cell_type": "code",
     "collapsed": false,
     "input": [
      "from pickle import load\n",
      "data = load(open('../storage/final/full-processed-data.pkl', 'r'))"
     ],
     "language": "python",
     "metadata": {},
     "outputs": [],
     "prompt_number": 43
    },
    {
     "cell_type": "code",
     "collapsed": false,
     "input": [
      "test = {} \n",
      "testing_indices = []\n",
      "for i in range(len(data)):\n",
      "    tick = data[i][0]\n",
      "    test[tick] = []\n",
      "\n",
      "for i in range(len(data)):\n",
      "    tick = data[i][0]\n",
      "    year = data[i][1][:4]\n",
      "    if year in ['2013', '2014', '2015']:\n",
      "        test[tick].append(i)\n",
      "        testing_indices.append(i)"
     ],
     "language": "python",
     "metadata": {},
     "outputs": [],
     "prompt_number": 58
    },
    {
     "cell_type": "code",
     "collapsed": false,
     "input": [
      "testing_indices = np.array(testing_indices)\n",
      "training_indices = np.array(list(set(range(len(data))) - set(testing_indices)))"
     ],
     "language": "python",
     "metadata": {},
     "outputs": [],
     "prompt_number": 64
    },
    {
     "cell_type": "code",
     "collapsed": false,
     "input": [
      "len(training_indices), len(testing_indices), len(data), len(training_indices) + len(testing_indices)"
     ],
     "language": "python",
     "metadata": {},
     "outputs": [
      {
       "metadata": {},
       "output_type": "pyout",
       "prompt_number": 68,
       "text": [
        "(1128483, 33996, 1162479, 1162479)"
       ]
      }
     ],
     "prompt_number": 68
    },
    {
     "cell_type": "heading",
     "level": 4,
     "metadata": {},
     "source": [
      "Let's pick out the actual data!"
     ]
    },
    {
     "cell_type": "code",
     "collapsed": false,
     "input": [
      "training_data = np.array([data[i] for i in training_indices])\n",
      "testing_data = np.array([data[i] for i in testing_indices])"
     ],
     "language": "python",
     "metadata": {},
     "outputs": [],
     "prompt_number": 73
    },
    {
     "cell_type": "code",
     "collapsed": false,
     "input": [
      "pickle.dump({'training' : training_indices,  'testing' : testing_indices}, open('./SOMPY/training-testing-indices.pkl', 'wb'))"
     ],
     "language": "python",
     "metadata": {},
     "outputs": [],
     "prompt_number": 76
    },
    {
     "cell_type": "code",
     "collapsed": false,
     "input": [
      "from pickle import load\n",
      "index = load(open('../storage/final/full-processed-index.pkl', 'r'))"
     ],
     "language": "python",
     "metadata": {},
     "outputs": [],
     "prompt_number": 1
    },
    {
     "cell_type": "code",
     "collapsed": false,
     "input": [
      "index"
     ],
     "language": "python",
     "metadata": {},
     "outputs": [
      {
       "metadata": {},
       "output_type": "pyout",
       "prompt_number": 2,
       "text": [
        "array(['Ticker', 'Start Date', 'End Date', 'Close PE Ratio',\n",
        "       'High PE Ratio', 'Low PE Ratio', 'gross profit margin',\n",
        "       'pre-tax profit margin', 'post-tax profit margin',\n",
        "       'net profit margin', 'interest coverage (cont. operations)',\n",
        "       'interest as % of invested capital', 'effective tax rate',\n",
        "       'income per employee', 'Normalized Close PE Ratio',\n",
        "       'Normalized High PE Ratio', 'Normalized Low PE Ratio',\n",
        "       'normalized net profit margin', 'Normalized ROE', 'Normalized ROA',\n",
        "       'Normalized ROCI', 'normalized income per employee', 'quick ratio',\n",
        "       'current ratio', 'payout ratio', 'total debt/equity ratio',\n",
        "       'long-term debt/total capital', 'leverage ratio', 'asset turnover',\n",
        "       'cash as % of revenue', 'receivables as % of revenue',\n",
        "       'SG&A as % of Revenue', 'R&D as % of Revenue', 'revenue per $ cash',\n",
        "       'revenue per $  plant (net)', 'revenue per $ common equity',\n",
        "       'revenue per $ invested capital', 'receivables turnover',\n",
        "       'inventory turnover', 'receivables per day sales',\n",
        "       'sales per $ receivables', 'sales per $ inventory',\n",
        "       'revenue/assets', 'number of days cost of goods in inventory',\n",
        "       'current assets per share', 'total assets per share',\n",
        "       'intangibles as % of book-value', 'inventory as % of revenue',\n",
        "       'long-term debt per share', 'current liabilities per share',\n",
        "       'cash per share', 'LT-Debt to Equity Ratio',\n",
        "       'LT-Debt as % of Invested Capital', 'LT-Debt as % of Total Debt',\n",
        "       'total debt as % total assets', 'working captial as % of equity',\n",
        "       'revenue per share', 'book value per share',\n",
        "       'tangible book value per share', 'price/revenue ratio',\n",
        "       'price/equity ratio', 'price/tangible book ratio',\n",
        "       'working capital as % of price', 'working capital per share',\n",
        "       'cash flow per share', 'free cash flow per share',\n",
        "       'Return on Stock Equity (ROE)', 'Return on Capital Invested (ROCI)',\n",
        "       'Return on Assets (ROA)', 'price/cash flow ratio',\n",
        "       'price/free cash flow ratio', 'sales per employee',\n",
        "       '% of sales-to-industry', '% of earnings-to-industry',\n",
        "       '% of EPS-to-Industry', '% of price-to-industry',\n",
        "       '% of PE-to-Industry', '% of price/book-to-industry',\n",
        "       '% of price/sales-to-industry', '% of price/cashflow-to-industry',\n",
        "       '% of pric/free cashlow-to-industry',\n",
        "       '% of debt/equity-to-industry', '% of current ratio-to-industry',\n",
        "       '% of gross profit margin-to-industry',\n",
        "       '% of pre-tax profit margin-to-industry',\n",
        "       '% of post-tax profit margin-to-industry',\n",
        "       '% of net profit margin-to-industry', '% of ROE-to-Industry',\n",
        "       '% of leverage-to-industry', 'Shares Outstanding', 'Current Ratio',\n",
        "       'Current Assets / Total Assets',\n",
        "       '(Current Assets - Stock) / Total Assets',\n",
        "       'Current Liabilities / Total Assets', 'Cash / Current Liabilities',\n",
        "       'Cash / Total Assets', 'Cash / Total Debt',\n",
        "       'Net Op. Work. Capital / Total Assets',\n",
        "       'Long Term Debt / Total Assets', 'Total Debt / Total Assets',\n",
        "       'EBIDTA / Total Assets', 'Net Income / Total Assets',\n",
        "       'Total Sales / Total Assets', 'Operating Cash Flow / Total Assets',\n",
        "       'Operating Cash Flow / Total Sales', 'Current Assets / Total Sales',\n",
        "       'Net Op. Work. Capital / Total Sales',\n",
        "       'Accounts Payable / Total Sales',\n",
        "       'Accounts Receivable / Total Sales', 'Inventory / Total Sales',\n",
        "       'Cash / Total Sales', 'Operating Profit',\n",
        "       'Return on Average Equity', 'Total Liabilities',\n",
        "       'Funds from Operations', 'Operating Margin', 'Interest Coverage',\n",
        "       'Fixed Asset Turnover', 'Total Asset Turnover', 'Cash Ratio',\n",
        "       'Net Asset Value ', 'Earnings Per Share', 'EBITDA Per Share',\n",
        "       'Dividend Per Share', 'Total Assets / NAV', 'Log Stock Return',\n",
        "       'Log Index Return'], \n",
        "      dtype='|S41')"
       ]
      }
     ],
     "prompt_number": 2
    },
    {
     "cell_type": "code",
     "collapsed": false,
     "input": [],
     "language": "python",
     "metadata": {},
     "outputs": []
    }
   ],
   "metadata": {}
  }
 ]
}