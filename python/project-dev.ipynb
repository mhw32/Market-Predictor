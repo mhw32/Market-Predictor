{
 "metadata": {
  "name": "",
  "signature": "sha256:c97d34f436f6e1e386e417dac1123c2640feaeb1b7260cb26776373e14bbc301"
 },
 "nbformat": 3,
 "nbformat_minor": 0,
 "worksheets": [
  {
   "cells": [
    {
     "cell_type": "heading",
     "level": 2,
     "metadata": {},
     "source": [
      "This iPython Notebook is used to document the code developed for the Machine Learning Project (supervised by Irina) -- Mike Wu"
     ]
    },
    {
     "cell_type": "markdown",
     "metadata": {},
     "source": [
      "The abstract here is to use CUSUM and t-tests to label data. Further development includes SOM as the model to train/predict."
     ]
    },
    {
     "cell_type": "heading",
     "level": 3,
     "metadata": {},
     "source": [
      "Let's read in the .MAT file into iPython"
     ]
    },
    {
     "cell_type": "code",
     "collapsed": false,
     "input": [
      "from scipy.io import loadmat\n",
      "import numpy as np"
     ],
     "language": "python",
     "metadata": {},
     "outputs": [],
     "prompt_number": 1
    },
    {
     "cell_type": "code",
     "collapsed": false,
     "input": [
      "data = loadmat('../wu-example-matrix-data.mat')\n",
      "data = data['F']"
     ],
     "language": "python",
     "metadata": {},
     "outputs": [],
     "prompt_number": 2
    },
    {
     "cell_type": "markdown",
     "metadata": {},
     "source": [
      "Let's make sure it has the <b>right size</b>. "
     ]
    },
    {
     "cell_type": "code",
     "collapsed": false,
     "input": [
      "data.shape"
     ],
     "language": "python",
     "metadata": {},
     "outputs": [
      {
       "metadata": {},
       "output_type": "pyout",
       "prompt_number": 3,
       "text": [
        "(33069, 124)"
       ]
      }
     ],
     "prompt_number": 3
    },
    {
     "cell_type": "code",
     "collapsed": false,
     "input": [],
     "language": "python",
     "metadata": {},
     "outputs": []
    }
   ],
   "metadata": {}
  }
 ]
}