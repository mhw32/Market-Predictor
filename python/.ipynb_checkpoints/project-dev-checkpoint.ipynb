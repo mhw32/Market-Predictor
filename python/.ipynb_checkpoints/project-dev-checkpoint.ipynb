{
 "metadata": {
  "name": "",
  "signature": "sha256:69d296b3a9db799cb7850d2a05650a948a6e4e7b2b5604e6a2780edc4d084a32"
 },
 "nbformat": 3,
 "nbformat_minor": 0,
 "worksheets": [
  {
   "cells": [
    {
     "cell_type": "heading",
     "level": 2,
     "metadata": {},
     "source": [
      "This iPython Notebook is used to document the code developed for the Machine Learning Project (supervised by Irina) -- Mike Wu"
     ]
    },
    {
     "cell_type": "markdown",
     "metadata": {},
     "source": [
      "The abstract here is to use CUSUM and t-tests to label data. Further development includes SOM as the model to train/predict."
     ]
    },
    {
     "cell_type": "heading",
     "level": 3,
     "metadata": {},
     "source": [
      "Let's read in the .MAT file into iPython"
     ]
    },
    {
     "cell_type": "code",
     "collapsed": false,
     "input": [
      "from scipy.io import loadmat\n",
      "import numpy as np"
     ],
     "language": "python",
     "metadata": {},
     "outputs": [],
     "prompt_number": 2
    },
    {
     "cell_type": "code",
     "collapsed": false,
     "input": [
      "data = loadmat('../wu-example-full-matrix-data.mat')\n",
      "raw_feature_index   = data['full_matrix'][:, 0][0][0]\n",
      "raw_feature_data    = data['full_matrix'][:, 1][0]\n",
      "raw_descript_index  = data['full_matrix'][:, 2][0][0]\n",
      "raw_descript_data   = data['full_matrix'][:, 3][0]"
     ],
     "language": "python",
     "metadata": {},
     "outputs": [],
     "prompt_number": 46
    },
    {
     "cell_type": "markdown",
     "metadata": {},
     "source": [
      "Let's make sure it has the <b>right size</b>. It turns out the <b>nan</b> are handled, and the shapes work."
     ]
    },
    {
     "cell_type": "code",
     "collapsed": false,
     "input": [
      "raw_feature_data.shape, raw_descript_data.shape"
     ],
     "language": "python",
     "metadata": {},
     "outputs": [
      {
       "metadata": {},
       "output_type": "pyout",
       "prompt_number": 47,
       "text": [
        "((33069, 124), (33069, 3))"
       ]
      }
     ],
     "prompt_number": 47
    },
    {
     "cell_type": "markdown",
     "metadata": {},
     "source": [
      "Let's first convert this to a nice python format -- ie, handle strings well"
     ]
    },
    {
     "cell_type": "code",
     "collapsed": false,
     "input": [
      "def pythonify_stringify(matstr):\n",
      "    return np.array([str(i[0]) for i in matstr])"
     ],
     "language": "python",
     "metadata": {},
     "outputs": [],
     "prompt_number": 72
    },
    {
     "cell_type": "code",
     "collapsed": false,
     "input": [
      "descript_index = pythonify_stringify(raw_descript_index)\n",
      "feature_index  = pythonify_stringify(raw_feature_index)"
     ],
     "language": "python",
     "metadata": {},
     "outputs": [],
     "prompt_number": 73
    },
    {
     "cell_type": "code",
     "collapsed": false,
     "input": [
      "index = np.concatenate((descript_index, feature_index), axis=0)"
     ],
     "language": "python",
     "metadata": {},
     "outputs": [],
     "prompt_number": 60
    },
    {
     "cell_type": "markdown",
     "metadata": {},
     "source": [
      "Now instead of having <b>separate storage arrays</b>, let's combine the decriptive and feature datas"
     ]
    },
    {
     "cell_type": "code",
     "collapsed": false,
     "input": [
      "# raw_feature_data doesn't really need any processing, but let's deal with descriptive data before we combine them\n",
      "def pythonify_data(raw_data):\n",
      "    data = []\n",
      "    for i in raw_data:\n",
      "        data.append(np.array([str(j[0]) for j in i]))\n",
      "    return np.array(data)"
     ],
     "language": "python",
     "metadata": {},
     "outputs": [],
     "prompt_number": 96
    },
    {
     "cell_type": "code",
     "collapsed": false,
     "input": [
      "descript_data = pythonify_data(raw_descript_data)"
     ],
     "language": "python",
     "metadata": {},
     "outputs": [],
     "prompt_number": 98
    },
    {
     "cell_type": "code",
     "collapsed": false,
     "input": [
      "# Now we can actually combine this stuff... to get simple data.\n",
      "descript_data"
     ],
     "language": "python",
     "metadata": {},
     "outputs": [
      {
       "metadata": {},
       "output_type": "pyout",
       "prompt_number": 99,
       "text": [
        "array([['A', '1998-01-01', '1998-03-31'],\n",
        "       ['A', '1999-04-01', '1999-06-30'],\n",
        "       ['A', '1999-07-01', '1999-09-30'],\n",
        "       ..., \n",
        "       ['MPET', '1994-04-01', '1994-06-30'],\n",
        "       ['MPET', '1994-07-01', '1994-09-30'],\n",
        "       ['MPET', '1995-10-01', '1995-12-31']], \n",
        "      dtype='|S10')"
       ]
      }
     ],
     "prompt_number": 99
    },
    {
     "cell_type": "code",
     "collapsed": false,
     "input": [
      "def combinify(descriptions, features):\n",
      "    return np.array([np.concatenate((i, j), axis=0) for i, j in zip(descriptions, features)])"
     ],
     "language": "python",
     "metadata": {},
     "outputs": [],
     "prompt_number": 149
    },
    {
     "cell_type": "code",
     "collapsed": false,
     "input": [
      "data = combinify(descript_data, raw_feature_data)"
     ],
     "language": "python",
     "metadata": {},
     "outputs": [],
     "prompt_number": 150
    },
    {
     "cell_type": "code",
     "collapsed": false,
     "input": [
      "data.shape, index.shape"
     ],
     "language": "python",
     "metadata": {},
     "outputs": [
      {
       "metadata": {},
       "output_type": "pyout",
       "prompt_number": 151,
       "text": [
        "((33069, 127), (127,))"
       ]
      }
     ],
     "prompt_number": 151
    },
    {
     "cell_type": "code",
     "collapsed": false,
     "input": [
      "data"
     ],
     "language": "python",
     "metadata": {},
     "outputs": [
      {
       "metadata": {},
       "output_type": "pyout",
       "prompt_number": 153,
       "text": [
        "array([['A', '1998-01-01', '1998-03-31', ..., '0.71734752', 'nan', 'nan'],\n",
        "       ['A', '1999-04-01', '1999-06-30', ..., 'nan', 'nan', 'nan'],\n",
        "       ['A', '1999-07-01', '1999-09-30', ..., 'nan', 'nan', 'nan'],\n",
        "       ..., \n",
        "       ['MPET', '1994-04-01', '1994-06-30', ..., '0.61941251', 'nan', 'nan'],\n",
        "       ['MPET', '1994-07-01', '1994-09-30', ..., '0.61696969', 'nan', 'nan'],\n",
        "       ['MPET', '1995-10-01', '1995-12-31', ..., '0.62020460', 'nan', 'nan']], \n",
        "      dtype='|S10')"
       ]
      }
     ],
     "prompt_number": 153
    },
    {
     "cell_type": "markdown",
     "metadata": {},
     "source": [
      "Just for save measure, let's save it in a pickle"
     ]
    },
    {
     "cell_type": "code",
     "collapsed": false,
     "input": [
      "import pickle\n",
      "pickle.dump(data, open('./storage/wu-processed-data.pkl', 'wb'))\n",
      "pickle.dump(index, open('./storage/wu-processed-index.pkl', 'wb'))"
     ],
     "language": "python",
     "metadata": {},
     "outputs": [],
     "prompt_number": 158
    },
    {
     "cell_type": "heading",
     "level": 4,
     "metadata": {},
     "source": [
      "Done. Notebook will be closed. Further processing done in CUSUM notebook."
     ]
    }
   ],
   "metadata": {}
  }
 ]
}